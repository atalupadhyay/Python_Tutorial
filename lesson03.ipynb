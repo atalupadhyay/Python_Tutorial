{
  "cells": [
    {
      "cell_type": "markdown",
      "metadata": {
        "id": "view-in-github",
        "colab_type": "text"
      },
      "source": [
        "<a href=\"https://colab.research.google.com/github/atalupadhyay/Python_Tutorial/blob/master/lesson03.ipynb\" target=\"_parent\"><img src=\"https://colab.research.google.com/assets/colab-badge.svg\" alt=\"Open In Colab\"/></a>"
      ]
    },
    {
      "cell_type": "markdown",
      "source": [
        "## Lesson 3: Exception Handling & Debugging\n",
        "\n",
        "In this lesson, we'll tackle how to gracefully handle errors in your Python code using exception handling and debugging techniques.\n",
        "\n",
        "**1. Exception Handling:**\n",
        "\n",
        "Exception handling allows you to anticipate and manage potential errors in your code, preventing crashes and ensuring smooth program execution.\n",
        "\n",
        "* **`try-except` blocks:** We use `try-except` blocks to define code to be executed and how to handle any exceptions that might occur."
      ],
      "metadata": {
        "id": "sbQicknvTSGL"
      }
    },
    {
      "cell_type": "code",
      "source": [
        "try:\n",
        "  # Code that might raise an exception\n",
        "  result = 10 / 0\n",
        "except ZeroDivisionError:\n",
        "  print(\"Oops! You can't divide by zero.\")\n",
        "\n",
        "print(\"Continuing the program...\")"
      ],
      "outputs": [
        {
          "output_type": "stream",
          "name": "stdout",
          "text": [
            "Oops! You can't divide by zero.\n",
            "Continuing the program...\n"
          ]
        }
      ],
      "execution_count": 1,
      "metadata": {
        "colab": {
          "base_uri": "https://localhost:8080/"
        },
        "id": "QhhsSqyQTSGN",
        "outputId": "ee996358-3f1d-40f3-8a0b-3a6aa83db65e"
      }
    },
    {
      "cell_type": "markdown",
      "source": [
        "**Run this code. The `try` block attempts the division, but the `except` block catches the `ZeroDivisionError` and prints a message.**\n",
        "\n",
        "* **Custom Exceptions:** You can define your own exception classes to handle specific errors in your application."
      ],
      "metadata": {
        "id": "-YvlvkKLTSGO"
      }
    },
    {
      "cell_type": "code",
      "source": [
        "class InvalidAgeError(Exception):\n",
        "  pass\n",
        "\n",
        "def check_age(age):\n",
        "  if age < 0:\n",
        "    raise InvalidAgeError(\"Age cannot be negative.\")\n",
        "\n",
        "try:\n",
        "  check_age(-5)\n",
        "except InvalidAgeError as e:\n",
        "  print(e)"
      ],
      "outputs": [
        {
          "output_type": "stream",
          "name": "stdout",
          "text": [
            "Age cannot be negative.\n"
          ]
        }
      ],
      "execution_count": 2,
      "metadata": {
        "colab": {
          "base_uri": "https://localhost:8080/"
        },
        "id": "SOeBT_8ITSGO",
        "outputId": "7efd0f3c-4d2f-4f39-f3ec-12237da37631"
      }
    },
    {
      "cell_type": "markdown",
      "source": [
        "**Run this code. The `check_age` function raises a custom `InvalidAgeError` if the age is negative.**\n",
        "\n",
        "**2. Debugging:**\n",
        "\n",
        "Debugging is the process of identifying and fixing errors in your code. Here are some common techniques:\n",
        "\n",
        "* **Print statements:** Add `print` statements throughout your code to inspect variable values and program flow.\n",
        "* **Debuggers:** Python debuggers like `pdb` allow you to step through your code line by line, examining variables at each step.\n",
        "* **Error messages:** Pay close attention to error messages; they often provide valuable clues about the location and nature of the error.\n",
        "\n",
        "**Practice debugging the following code (errors are intentional):**"
      ],
      "metadata": {
        "id": "Y9kl05Y5TSGP"
      }
    },
    {
      "cell_type": "code",
      "source": [
        "def calculate_area(length, width):\n",
        "  area = lenght * width  # Typo in 'lenght'\n",
        "  return area\n",
        "\n",
        "result = calculate_area(5, 3)\n",
        "print(result)"
      ],
      "outputs": [
        {
          "output_type": "error",
          "ename": "NameError",
          "evalue": "name 'lenght' is not defined",
          "traceback": [
            "\u001b[0;31m---------------------------------------------------------------------------\u001b[0m",
            "\u001b[0;31mNameError\u001b[0m                                 Traceback (most recent call last)",
            "\u001b[0;32m<ipython-input-3-4d9d8ce90236>\u001b[0m in \u001b[0;36m<cell line: 5>\u001b[0;34m()\u001b[0m\n\u001b[1;32m      3\u001b[0m   \u001b[0;32mreturn\u001b[0m \u001b[0marea\u001b[0m\u001b[0;34m\u001b[0m\u001b[0;34m\u001b[0m\u001b[0m\n\u001b[1;32m      4\u001b[0m \u001b[0;34m\u001b[0m\u001b[0m\n\u001b[0;32m----> 5\u001b[0;31m \u001b[0mresult\u001b[0m \u001b[0;34m=\u001b[0m \u001b[0mcalculate_area\u001b[0m\u001b[0;34m(\u001b[0m\u001b[0;36m5\u001b[0m\u001b[0;34m,\u001b[0m \u001b[0;36m3\u001b[0m\u001b[0;34m)\u001b[0m\u001b[0;34m\u001b[0m\u001b[0;34m\u001b[0m\u001b[0m\n\u001b[0m\u001b[1;32m      6\u001b[0m \u001b[0mprint\u001b[0m\u001b[0;34m(\u001b[0m\u001b[0mresult\u001b[0m\u001b[0;34m)\u001b[0m\u001b[0;34m\u001b[0m\u001b[0;34m\u001b[0m\u001b[0m\n",
            "\u001b[0;32m<ipython-input-3-4d9d8ce90236>\u001b[0m in \u001b[0;36mcalculate_area\u001b[0;34m(length, width)\u001b[0m\n\u001b[1;32m      1\u001b[0m \u001b[0;32mdef\u001b[0m \u001b[0mcalculate_area\u001b[0m\u001b[0;34m(\u001b[0m\u001b[0mlength\u001b[0m\u001b[0;34m,\u001b[0m \u001b[0mwidth\u001b[0m\u001b[0;34m)\u001b[0m\u001b[0;34m:\u001b[0m\u001b[0;34m\u001b[0m\u001b[0;34m\u001b[0m\u001b[0m\n\u001b[0;32m----> 2\u001b[0;31m   \u001b[0marea\u001b[0m \u001b[0;34m=\u001b[0m \u001b[0mlenght\u001b[0m \u001b[0;34m*\u001b[0m \u001b[0mwidth\u001b[0m  \u001b[0;31m# Typo in 'lenght'\u001b[0m\u001b[0;34m\u001b[0m\u001b[0;34m\u001b[0m\u001b[0m\n\u001b[0m\u001b[1;32m      3\u001b[0m   \u001b[0;32mreturn\u001b[0m \u001b[0marea\u001b[0m\u001b[0;34m\u001b[0m\u001b[0;34m\u001b[0m\u001b[0m\n\u001b[1;32m      4\u001b[0m \u001b[0;34m\u001b[0m\u001b[0m\n\u001b[1;32m      5\u001b[0m \u001b[0mresult\u001b[0m \u001b[0;34m=\u001b[0m \u001b[0mcalculate_area\u001b[0m\u001b[0;34m(\u001b[0m\u001b[0;36m5\u001b[0m\u001b[0;34m,\u001b[0m \u001b[0;36m3\u001b[0m\u001b[0;34m)\u001b[0m\u001b[0;34m\u001b[0m\u001b[0;34m\u001b[0m\u001b[0m\n",
            "\u001b[0;31mNameError\u001b[0m: name 'lenght' is not defined"
          ]
        }
      ],
      "execution_count": 3,
      "metadata": {
        "colab": {
          "base_uri": "https://localhost:8080/",
          "height": 315
        },
        "id": "Y3UXdprUTSGP",
        "outputId": "373805f3-1cbf-4aba-e739-99607664bf3f"
      }
    },
    {
      "cell_type": "markdown",
      "source": [
        "**Use `print` statements or a debugger to identify and fix the typo.**\n",
        "\n",
        "**Remember:** Exception handling and debugging are essential skills for writing robust and maintainable Python code.\n",
        "\n",
        "This lesson provides a foundation for exception handling and debugging. In the next lesson, we'll explore advanced Python tools and libraries.  \n",
        "\n",
        "Just say \"next lesson\" when you're ready to proceed!"
      ],
      "metadata": {
        "id": "wTEtyP8wTSGP"
      }
    }
  ],
  "metadata": {
    "colab": {
      "provenance": [],
      "include_colab_link": true
    },
    "kernelspec": {
      "display_name": "Python 3",
      "name": "python3"
    }
  },
  "nbformat": 4,
  "nbformat_minor": 0
}