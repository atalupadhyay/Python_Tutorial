{
  "cells": [
    {
      "cell_type": "markdown",
      "metadata": {
        "id": "view-in-github",
        "colab_type": "text"
      },
      "source": [
        "<a href=\"https://colab.research.google.com/github/atalupadhyay/Python_Tutorial/blob/master/lesson04.ipynb\" target=\"_parent\"><img src=\"https://colab.research.google.com/assets/colab-badge.svg\" alt=\"Open In Colab\"/></a>"
      ]
    },
    {
      "cell_type": "markdown",
      "source": [
        "## Lesson 4: Advanced Python Tools & Libraries\n",
        "\n",
        "In this lesson, we'll delve into powerful tools and libraries that extend Python's capabilities:\n",
        "\n",
        "* **Modules & Packages:** Python allows you to organize code into reusable modules and packages. Popular libraries like NumPy, Pandas, and Matplotlib are examples of well-structured packages.\n",
        "\n",
        "**1. NumPy:**\n",
        "\n",
        "NumPy (Numerical Python) is a fundamental library for scientific computing and data analysis. It provides efficient arrays and linear algebra operations.\n",
        "\n",
        "**Jupyter Notebook Example:**"
      ],
      "metadata": {
        "id": "Q1tKy4CeUfd6"
      }
    },
    {
      "cell_type": "code",
      "source": [
        "import numpy as np\n",
        "\n",
        "# Create a NumPy array\n",
        "myArray = np.array([1, 2, 3, 4, 5])\n",
        "\n",
        "# Perform operations on the array\n",
        "print(myArray * 2)  # Element-wise multiplication\n",
        "print(myArray.sum())  # Sum of all elements"
      ],
      "outputs": [],
      "execution_count": null,
      "metadata": {
        "id": "SY-0ObRsUfd8"
      }
    },
    {
      "cell_type": "markdown",
      "source": [
        "**Run this code to see how NumPy simplifies numerical computations.**\n",
        "\n",
        "**2. Pandas:**\n",
        "\n",
        "Pandas is a powerful library for data manipulation and analysis. It excels at working with tabular data structures called DataFrames.\n",
        "\n",
        "**Jupyter Notebook Example:**"
      ],
      "metadata": {
        "id": "StmG788uUfd-"
      }
    },
    {
      "cell_type": "code",
      "source": [
        "import pandas as pd\n",
        "\n",
        "# Create a DataFrame from a dictionary\n",
        "data = {'Name': ['Alice', 'Bob', 'Charlie'], 'Age': [25, 30, 22]}\n",
        "df = pd.DataFrame(data)\n",
        "\n",
        "# Access and manipulate data in the DataFrame\n",
        "print(df.head())  # Display the first few rows\n",
        "print(df.loc[1])  # Access a specific row by index"
      ],
      "outputs": [],
      "execution_count": null,
      "metadata": {
        "id": "3kB6O2nWUfd-"
      }
    },
    {
      "cell_type": "markdown",
      "source": [
        "**Run this code to understand how Pandas handles DataFrames.**\n",
        "\n",
        "**3. Matplotlib:**\n",
        "\n",
        "Matplotlib is a versatile library for creating static, animated, and interactive visualizations.\n",
        "\n",
        "**Jupyter Notebook Example:**"
      ],
      "metadata": {
        "id": "OObQUDOVUfd-"
      }
    },
    {
      "cell_type": "code",
      "source": [
        "import matplotlib.pyplot as plt\n",
        "\n",
        "# Generate some sample data\n",
        "x = [1, 2, 3, 4, 5]\n",
        "y = [2, 4, 1, 5, 3]\n",
        "\n",
        "# Create a line plot\n",
        "plt.plot(x, y)\n",
        "plt.xlabel(\"X-axis\")\n",
        "plt.ylabel(\"Y-axis\")\n",
        "plt.title(\"Sample Line Plot\")\n",
        "plt.show()"
      ],
      "outputs": [],
      "execution_count": null,
      "metadata": {
        "id": "MxKJhe2uUfd-"
      }
    },
    {
      "cell_type": "markdown",
      "source": [
        "**Run this code to create a basic line plot with Matplotlib.**\n",
        "\n",
        "These are just a few examples of powerful Python tools and libraries. As you progress, you'll explore more specialized libraries for tasks like machine learning, web scraping, and network programming.\n",
        "\n",
        "**Remember:** Mastering these tools will significantly enhance your ability to solve complex problems with Python.\n",
        "\n",
        "Next lesson, we'll explore projects that put these concepts into practice. Say \"next lesson\" when you're ready!"
      ],
      "metadata": {
        "id": "GL3UvyO2Ufd_"
      }
    }
  ],
  "metadata": {
    "colab": {
      "provenance": [],
      "include_colab_link": true
    },
    "kernelspec": {
      "display_name": "Python 3",
      "name": "python3"
    }
  },
  "nbformat": 4,
  "nbformat_minor": 0
}